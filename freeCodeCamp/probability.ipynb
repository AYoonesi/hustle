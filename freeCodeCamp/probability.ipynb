{
 "cells": [
  {
   "cell_type": "code",
   "execution_count": 1,
   "metadata": {},
   "outputs": [],
   "source": [
    "import copy\n",
    "import random\n",
    "\n",
    "class Hat:\n",
    "    def __init__(self, **kwargs):\n",
    "        self.contents = []\n",
    "        for color, count in kwargs.items():\n",
    "            self.contents.extend([color] * count)\n",
    "\n",
    "    def draw(self, num_balls):\n",
    "        drawn_balls = []\n",
    "        if num_balls >= len(self.contents):\n",
    "            return self.contents\n",
    "        for _ in range(num_balls):\n",
    "            ball_index = random.randint(0, len(self.contents) - 1)\n",
    "            drawn_balls.append(self.contents.pop(ball_index))\n",
    "        return drawn_balls\n",
    "\n",
    "def experiment(hat, expected_balls, num_balls_drawn, num_experiments):\n",
    "    count_successful_experiments = 0\n",
    "\n",
    "    for _ in range(num_experiments):\n",
    "        hat_copy = copy.deepcopy(hat)\n",
    "        drawn_balls = hat_copy.draw(num_balls_drawn)\n",
    "        drawn_balls_dict = {}\n",
    "        \n",
    "        for ball in drawn_balls:\n",
    "            if ball in drawn_balls_dict:\n",
    "                drawn_balls_dict[ball] += 1\n",
    "            else:\n",
    "                drawn_balls_dict[ball] = 1\n",
    "\n",
    "        successful_experiment = True\n",
    "        for color, count in expected_balls.items():\n",
    "            if color not in drawn_balls_dict or drawn_balls_dict[color] < count:\n",
    "                successful_experiment = False\n",
    "                break\n",
    "        \n",
    "        if successful_experiment:\n",
    "            count_successful_experiments += 1\n",
    "\n",
    "    return count_successful_experiments / num_experiments"
   ]
  },
  {
   "cell_type": "markdown",
   "metadata": {},
   "source": [
    "a better version:"
   ]
  },
  {
   "cell_type": "code",
   "execution_count": 2,
   "metadata": {},
   "outputs": [],
   "source": [
    "import copy\n",
    "import random\n",
    "\n",
    "class Hat:\n",
    "    def __init__(self, **balls):\n",
    "        self.contents = []\n",
    "        for color, count in balls.items():\n",
    "            self.contents.extend([color] * count)\n",
    "\n",
    "    def draw(self, num_balls_to_draw):\n",
    "        if num_balls_to_draw >= len(self.contents):\n",
    "            return self.contents\n",
    "        \n",
    "        drawn_balls = random.sample(self.contents, num_balls_to_draw)\n",
    "        for ball in drawn_balls:\n",
    "            self.contents.remove(ball)\n",
    "        \n",
    "        return drawn_balls\n",
    "\n",
    "def experiment(hat, expected_balls, num_balls_drawn, num_experiments):\n",
    "    count_successful_experiments = 0\n",
    "\n",
    "    for _ in range(num_experiments):\n",
    "        hat_copy = copy.deepcopy(hat)\n",
    "        drawn_balls = hat_copy.draw(num_balls_drawn)\n",
    "        drawn_balls_dict = {color: drawn_balls.count(color) for color in drawn_balls}\n",
    "\n",
    "        successful_experiment = all(drawn_balls_dict.get(color, 0) >= count for color, count in expected_balls.items())\n",
    "        if successful_experiment:\n",
    "            count_successful_experiments += 1\n",
    "\n",
    "    return count_successful_experiments / num_experiments\n"
   ]
  }
 ],
 "metadata": {
  "kernelspec": {
   "display_name": "venv",
   "language": "python",
   "name": "python3"
  },
  "language_info": {
   "codemirror_mode": {
    "name": "ipython",
    "version": 3
   },
   "file_extension": ".py",
   "mimetype": "text/x-python",
   "name": "python",
   "nbconvert_exporter": "python",
   "pygments_lexer": "ipython3",
   "version": "3.10.6"
  },
  "orig_nbformat": 4
 },
 "nbformat": 4,
 "nbformat_minor": 2
}
