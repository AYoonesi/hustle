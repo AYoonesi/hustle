{
 "cells": [
  {
   "cell_type": "code",
   "execution_count": 1,
   "metadata": {},
   "outputs": [],
   "source": [
    "def arithmetic_arranger(problems, show_answers=False):\n",
    "    if len(problems) > 5:\n",
    "        return \"Error: Too many problems.\"\n",
    "\n",
    "    line1 = \"\"\n",
    "    line2 = \"\"\n",
    "    dashes = \"\"\n",
    "    answers = \"\"\n",
    "\n",
    "    for problem in problems:\n",
    "        elements = problem.split()\n",
    "        operand1, operator, operand2 = elements[0], elements[1], elements[2]\n",
    "\n",
    "        if not operand1.isdigit() or not operand2.isdigit():\n",
    "            return \"Error: Numbers must only contain digits.\"\n",
    "\n",
    "        if len(operand1) > 4 or len(operand2) > 4:\n",
    "            return \"Error: Numbers cannot be more than four digits.\"\n",
    "\n",
    "        if operator not in ['+', '-']:\n",
    "            return \"Error: Operator must be '+' or '-'.\"\n",
    "\n",
    "        width = max(len(operand1), len(operand2)) + 2\n",
    "        line1 += operand1.rjust(width)\n",
    "        line2 += operator + operand2.rjust(width - 1)\n",
    "        dashes += \"-\" * width\n",
    "\n",
    "        if show_answers:\n",
    "            if operator == '+':\n",
    "                answer = str(int(operand1) + int(operand2))\n",
    "            else:\n",
    "                answer = str(int(operand1) - int(operand2))\n",
    "            answers += answer.rjust(width)\n",
    "\n",
    "        if problem != problems[-1]:\n",
    "            line1 += \"    \"\n",
    "            line2 += \"    \"\n",
    "            dashes += \"    \"\n",
    "            answers += \"    \"\n",
    "\n",
    "    arranged_problems = line1 + \"\\n\" + line2 + \"\\n\" + dashes\n",
    "    if show_answers:\n",
    "        arranged_problems += \"\\n\" + answers\n",
    "\n",
    "    return arranged_problems\n"
   ]
  },
  {
   "cell_type": "code",
   "execution_count": 2,
   "metadata": {},
   "outputs": [
    {
     "data": {
      "text/plain": [
       "'   32      3801      45      123\\n+ 698    -    2    + 43    +  49\\n-----    ------    ----    -----'"
      ]
     },
     "execution_count": 2,
     "metadata": {},
     "output_type": "execute_result"
    }
   ],
   "source": [
    "arithmetic_arranger([\"32 + 698\", \"3801 - 2\", \"45 + 43\", \"123 + 49\"])"
   ]
  }
 ],
 "metadata": {
  "kernelspec": {
   "display_name": "venv",
   "language": "python",
   "name": "python3"
  },
  "language_info": {
   "codemirror_mode": {
    "name": "ipython",
    "version": 3
   },
   "file_extension": ".py",
   "mimetype": "text/x-python",
   "name": "python",
   "nbconvert_exporter": "python",
   "pygments_lexer": "ipython3",
   "version": "3.10.6"
  },
  "orig_nbformat": 4
 },
 "nbformat": 4,
 "nbformat_minor": 2
}
