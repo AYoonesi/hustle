{
 "cells": [
  {
   "cell_type": "code",
   "execution_count": 4,
   "metadata": {},
   "outputs": [],
   "source": [
    "def add_time(start, duration, day=None):\n",
    "    # Parse the start time\n",
    "    start_time, period = start.split()\n",
    "    start_hour, start_minute = map(int, start_time.split(':'))\n",
    "    if period == 'PM':\n",
    "        start_hour += 12\n",
    "\n",
    "    # Parse the duration time\n",
    "    duration_hour, duration_minute = map(int, duration.split(':'))\n",
    "\n",
    "    # Calculate the total minutes\n",
    "    total_minutes = start_hour * 60 + start_minute + duration_hour * 60 + duration_minute\n",
    "\n",
    "    # Calculate the new time\n",
    "    new_hour = total_minutes // 60 % 24\n",
    "    new_minute = total_minutes % 60\n",
    "    new_period = 'AM' if new_hour < 12 else 'PM'\n",
    "    if new_hour >= 12:\n",
    "        new_hour -= 12\n",
    "    if new_hour == 0:\n",
    "        new_hour = 12\n",
    "\n",
    "    # Calculate the number of days later\n",
    "    days_later = total_minutes // (24 * 60)\n",
    "\n",
    "    # Calculate the new day of the week\n",
    "    days_of_week = [\"Monday\", \"Tuesday\", \"Wednesday\", \"Thursday\", \"Friday\", \"Saturday\", \"Sunday\"]\n",
    "    if day:\n",
    "        day = day.capitalize()\n",
    "        current_day_index = days_of_week.index(day)\n",
    "        new_day_index = (current_day_index + days_later) % 7\n",
    "        new_day = days_of_week[new_day_index]\n",
    "\n",
    "    # Construct the result string\n",
    "    result = f\"{new_hour}:{str(new_minute).zfill(2)} {new_period}\"\n",
    "    if day:\n",
    "        if days_later == 1:\n",
    "            result += f\", {new_day} (next day)\"\n",
    "        elif days_later > 1:\n",
    "            result += f\", {new_day} ({days_later} days later)\"\n",
    "        else:\n",
    "            result += f\", {new_day}\"\n",
    "    elif days_later == 1:\n",
    "        result += \" (next day)\"\n",
    "    elif days_later > 1:\n",
    "        result += f\" ({days_later} days later)\"\n",
    "\n",
    "    return result"
   ]
  },
  {
   "cell_type": "code",
   "execution_count": 5,
   "metadata": {},
   "outputs": [
    {
     "name": "stdout",
     "output_type": "stream",
     "text": [
      "6:10 PM\n",
      "2:02 PM, Monday\n",
      "12:03 PM\n",
      "1:40 AM (next day)\n",
      "12:03 AM, Thursday (2 days later)\n",
      "7:42 AM (9 days later)\n"
     ]
    }
   ],
   "source": [
    "print(add_time(\"3:00 PM\", \"3:10\"))\n",
    "print(add_time(\"11:30 AM\", \"2:32\", \"Monday\"))\n",
    "print(add_time(\"11:43 AM\", \"00:20\"))\n",
    "print(add_time(\"10:10 PM\", \"3:30\"))\n",
    "print(add_time(\"11:43 PM\", \"24:20\", \"tueSday\"))\n",
    "print(add_time(\"6:30 PM\", \"205:12\"))"
   ]
  },
  {
   "cell_type": "code",
   "execution_count": 6,
   "metadata": {},
   "outputs": [
    {
     "data": {
      "text/plain": [
       "'12:03 AM, Thursday (2 days later)'"
      ]
     },
     "execution_count": 6,
     "metadata": {},
     "output_type": "execute_result"
    }
   ],
   "source": [
    "add_time(\"11:43 PM\", \"24:20\", \"tueSday\")\n"
   ]
  }
 ],
 "metadata": {
  "kernelspec": {
   "display_name": "venv",
   "language": "python",
   "name": "python3"
  },
  "language_info": {
   "codemirror_mode": {
    "name": "ipython",
    "version": 3
   },
   "file_extension": ".py",
   "mimetype": "text/x-python",
   "name": "python",
   "nbconvert_exporter": "python",
   "pygments_lexer": "ipython3",
   "version": "3.10.6"
  },
  "orig_nbformat": 4
 },
 "nbformat": 4,
 "nbformat_minor": 2
}
