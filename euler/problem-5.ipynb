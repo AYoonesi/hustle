{
 "cells": [
  {
   "cell_type": "markdown",
   "id": "b5d7ddf8",
   "metadata": {},
   "source": [
    "# Problem 5\n",
    "## Smallest multiple\n",
    "\n",
    "2520 is the smallest number that can be divided by each of the numbers from 1 to 10 without any remainder.\n",
    "What is the smallest positive number that is evenly divisible by all of the numbers from 1 to 20?"
   ]
  },
  {
   "cell_type": "code",
   "execution_count": 1,
   "id": "4bea4ff1",
   "metadata": {},
   "outputs": [],
   "source": [
    "import math, numpy\n",
    "\n",
    "# Collect all prime numbers less than 20\n",
    "def is_prime(num: int):\n",
    "    ran = numpy.arange(2, int(math.sqrt(num)) + 1)\n",
    "    for i in ran:\n",
    "        if (num % i == 0):\n",
    "            return False\n",
    "    return True"
   ]
  },
  {
   "cell_type": "code",
   "execution_count": 2,
   "id": "fed25799",
   "metadata": {},
   "outputs": [
    {
     "data": {
      "text/plain": [
       "dict_keys([2, 3, 5, 7, 11, 13, 17, 19])"
      ]
     },
     "execution_count": 2,
     "metadata": {},
     "output_type": "execute_result"
    }
   ],
   "source": [
    "# Collect all prime numbers less than 20\n",
    "def primes_less(num: int):\n",
    "    ran = numpy.arange(2, num + 1)\n",
    "    res = {}\n",
    "    for i in ran:\n",
    "        if (is_prime(i)):\n",
    "            res[i] = 1\n",
    "    return res.keys()\n",
    "\n",
    "primes_less(20)"
   ]
  },
  {
   "cell_type": "code",
   "execution_count": 3,
   "id": "3f6846cd",
   "metadata": {},
   "outputs": [
    {
     "data": {
      "text/plain": [
       "{2: [1, 1, 2, 1, 3, 1, 2, 1, 4, 1, 2],\n",
       " 3: [1, 1, 1, 2, 1, 1, 2],\n",
       " 5: [1, 1, 1, 1, 1],\n",
       " 7: [1, 1, 1],\n",
       " 11: [1, 1],\n",
       " 13: [1, 1],\n",
       " 17: [1, 1],\n",
       " 19: [1, 1]}"
      ]
     },
     "execution_count": 3,
     "metadata": {},
     "output_type": "execute_result"
    }
   ],
   "source": [
    "# Collect factors of all primes\n",
    "\n",
    "ran, res = [], {}\n",
    "for prime in primes_less(20):\n",
    "    res[prime] = [1]\n",
    "for not_prime in numpy.arange(6, 20 + 1):\n",
    "    if (is_prime(not_prime) == False):\n",
    "        ran.append(not_prime)\n",
    "\n",
    "def tajzie(num: int, res):\n",
    "    for aval in res.keys():\n",
    "        tmp = 0\n",
    "        while(num % aval == 0):\n",
    "            tmp += 1\n",
    "            num /= aval\n",
    "        if (tmp > 0):\n",
    "            res[aval].append(tmp)\n",
    "    return res\n",
    "    \n",
    "def collect_factors(num: int):\n",
    "    for i in numpy.arange(1, num + 1):\n",
    "        tajzie(num=i, res=res)\n",
    "    return res\n",
    "        \n",
    "collect_factors(20)"
   ]
  },
  {
   "cell_type": "code",
   "execution_count": 4,
   "id": "abd7407d",
   "metadata": {},
   "outputs": [
    {
     "name": "stdout",
     "output_type": "stream",
     "text": [
      "232792560\n"
     ]
    }
   ],
   "source": [
    "final = collect_factors(20)\n",
    "result, javab = {}, 1\n",
    "for i in final.keys():\n",
    "    final[i].sort()\n",
    "    result[i] = final[i][-1]\n",
    "for j in result:\n",
    "    javab *= j ** result[j]\n",
    "    \n",
    "print(javab)"
   ]
  }
 ],
 "metadata": {
  "kernelspec": {
   "display_name": "Python 3 (ipykernel)",
   "language": "python",
   "name": "python3"
  },
  "language_info": {
   "codemirror_mode": {
    "name": "ipython",
    "version": 3
   },
   "file_extension": ".py",
   "mimetype": "text/x-python",
   "name": "python",
   "nbconvert_exporter": "python",
   "pygments_lexer": "ipython3",
   "version": "3.10.4"
  }
 },
 "nbformat": 4,
 "nbformat_minor": 5
}
